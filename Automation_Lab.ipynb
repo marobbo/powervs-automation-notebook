{
 "cells": [
  {
   "cell_type": "markdown",
   "id": "22654580",
   "metadata": {},
   "source": [
    "# Step 2. Authenticate to IBM Cloud with APIKEY"
   ]
  },
  {
   "cell_type": "markdown",
   "id": "7b419818",
   "metadata": {},
   "source": [
    "Use api key you copied from earlier and enter it in below. \n",
    "\n",
    "You will need to specify the region based on the location of your Power VS Service instance. Use this URL to list the proper region: https://cloud.ibm.com/docs/power-iaas?topic=power-iaas-creating- power-virtual-server"
   ]
  },
  {
   "cell_type": "code",
   "execution_count": null,
   "id": "325e90ac",
   "metadata": {},
   "outputs": [],
   "source": [
    "# import utils as u\n",
    "# Fill in APIKEY value below\n",
    "!ibmcloud config --check-version=false\n",
    "APIKEY='INSERT IBM CLOUD API KEY HERE'\n",
    "IC_REGION='INSERT IBM COULD POWERVS REGION HERE'\n",
    "!ibmcloud login -a https://cloud.ibm.com --apikey $APIKEY -r $IC_REGION"
   ]
  },
  {
   "cell_type": "markdown",
   "id": "b50d309a",
   "metadata": {},
   "source": [
    "You should now be logged into the ibmcloud cli. Your APIKEY has automatically logged you into the correct account."
   ]
  },
  {
   "cell_type": "markdown",
   "id": "329b4cb1",
   "metadata": {},
   "source": [
    "## Step 2a. Collect your IBM PowerVS Service CRN"
   ]
  },
  {
   "cell_type": "markdown",
   "id": "7c376744",
   "metadata": {},
   "source": [
    "Next we will use the IBM Cloud CLI to gather some meta data about our PowerVS Instance so that we can provision a server with the ibmcloud CLI. \n",
    "\n",
    "In particular we will need to get the PowerVS instance crn so that we can create new LPARS inside of it.\n",
    "Run the command in the next cell and copy your instance crn"
   ]
  },
  {
   "cell_type": "code",
   "execution_count": null,
   "id": "7ab74925",
   "metadata": {
    "tags": []
   },
   "outputs": [],
   "source": [
    "# Run ibmcloud pi to get instance id \n",
    "# note pi stands for power-iaas \n",
    "!ibmcloud pi service-list"
   ]
  },
  {
   "cell_type": "markdown",
   "id": "6f9db8ce",
   "metadata": {},
   "source": [
    "The instance_crn is a substring in the long output from ibmcloud pi service-list. The CRN will be used to target your PowerVS instance so you can run commands against it\n",
    "\n",
    "Use the example screenshot to grab your corresponding instance_crn and assign to the variable below.\n",
    "\n",
    "![](Images/instance_crn_screenshot.png)"
   ]
  },
  {
   "cell_type": "markdown",
   "id": "e9f85a0e",
   "metadata": {},
   "source": [
    "## Step 2b. Target your PowerVS Service"
   ]
  },
  {
   "cell_type": "markdown",
   "id": "40185691",
   "metadata": {},
   "source": [
    "Here we will target our PowerVS Instance so that future IBM Cloud CLI commands are directed to your instance."
   ]
  },
  {
   "cell_type": "code",
   "execution_count": null,
   "id": "23c84431",
   "metadata": {},
   "outputs": [],
   "source": [
    "#Get instance crn \n",
    "INSTANCE_CRN='PASTE YOUR SERVICE CRN HERE'\n",
    "\n",
    "#! ibmcloud pi service-target crn:v1:bluemix:public:xxxxxxxxxxxxxx\n",
    "!ibmcloud pi service-target $INSTANCE_CRN"
   ]
  },
  {
   "cell_type": "markdown",
   "id": "eb5aa947",
   "metadata": {},
   "source": [
    "# See output from other IBM CLI commands"
   ]
  },
  {
   "cell_type": "markdown",
   "id": "c76a9bb6",
   "metadata": {},
   "source": [
    "IBM Cloud CLI is a full featured tool to administer all parts of IBM cloud. \n",
    "\n",
    "We make use of the power-iaas module for commands to help us administer PowerVS\n",
    "\n",
    "For more documentation, see this link https://cloud.ibm.com/docs/power-iaas-cli-plugin?topic=power-iaas-cli-plugin-power-iaas-cli-reference\n",
    "\n",
    "Feel free to change the cli command in the code block below to try and see different results"
   ]
  },
  {
   "cell_type": "code",
   "execution_count": null,
   "id": "8e22edc0",
   "metadata": {},
   "outputs": [],
   "source": [
    "#List all PowerVS instances (LPARs) inside your targeted PowerVS service\n",
    "!ibmcloud pi ins\n",
    "\n",
    "## Samples of other commands ...\n",
    "# list images\n",
    "# ibmcloud pi imglc -i\n",
    "# # list networks\n",
    "# ibmcloud pi nets\n",
    "# # Show LPARS that are deployed\n",
    "# ibmcloud pi ins\n",
    "# # show LPAR details\n",
    "# ibmcloud pi in 042434e5-e049-4e20-b712-80def7775dc1\n",
    "# # show storage volumes in PVS\n",
    "# ibmcloud pi vols"
   ]
  },
  {
   "cell_type": "markdown",
   "id": "979d8d6f",
   "metadata": {},
   "source": [
    "# Create an LPAR using IBM Cloud CLI"
   ]
  },
  {
   "cell_type": "markdown",
   "id": "c0120d3a",
   "metadata": {},
   "source": [
    "Here we will show you how to create an LPAR using the IBM Cloud CLI. \n",
    "\n",
    "To do this we: \n",
    "* create a private network\n",
    "* create an LPAR on that private network\n",
    "\n",
    "There are more complex configurations you can use to add storage volumes and\n",
    "configure VM. See documentation for more advanced examples."
   ]
  },
  {
   "cell_type": "code",
   "execution_count": null,
   "id": "6af67bff",
   "metadata": {},
   "outputs": [],
   "source": [
    "# Create Private network\n",
    "# NOTE : CREATE A UNIQUE NAME For your network, and server in following example\n",
    "import numpy as np\n",
    "\n",
    "UNIQUE_NETWORK_NAME=\"ibmcloud-sample1_\" + str(np.random.randint(0,1000)) \n",
    "print(UNIQUE_NETWORK_NAME)\n",
    "\n",
    "!ibmcloud pi network-create-private $UNIQUE_NETWORK_NAME --cidr-block 10.0.10.0/24 --ip-range \"10.0.10.2-10.0.10.200\"\n",
    "\n"
   ]
  },
  {
   "cell_type": "code",
   "execution_count": null,
   "id": "154d850e",
   "metadata": {},
   "outputs": [],
   "source": [
    "# List out available images to deploy\n",
    "!ibmcloud pi imglc"
   ]
  },
  {
   "cell_type": "code",
   "execution_count": null,
   "id": "e950d2c1",
   "metadata": {},
   "outputs": [],
   "source": [
    "# Pick and image from above and deploy !\n",
    "UNIQUE_SERVER_NAME=\"ibmcloud-sample1_\" + str(np.random.randint(0,1000)) \n",
    "IMAGE_ID=\"PASTE YOUR IMAGE ID HERE\"\n",
    "!ibmcloud pi inc $UNIQUE_SERVER_NAME --network $UNIQUE_NETWORK_NAME --image $IMAGE_ID --memory 2 --processors 0.25 --processor-type shared --storage-type tier3"
   ]
  },
  {
   "cell_type": "markdown",
   "id": "eae7f473",
   "metadata": {},
   "source": [
    "# Create/Reuse PowerVS SSH Key"
   ]
  },
  {
   "cell_type": "markdown",
   "id": "5fd1fcdb",
   "metadata": {},
   "source": [
    "If you completed the steps from lab 1, you will have already created an SSH key that we can use. If you didnt finish that part, no problem, the following screen shots show you how to create an SSH login key for your PowerVS LPARs you will create.\n",
    "\n",
    "An alternative option to getting your public key is to use the IBM Cloud CLI as shown below. As optional exercise, try to create a key using IBM cloud CLI tool instead of GUI."
   ]
  },
  {
   "cell_type": "code",
   "execution_count": null,
   "id": "fedbfdc2",
   "metadata": {},
   "outputs": [],
   "source": [
    "# If you want to avoid the GUI, you can use the ibmcloud tool to grab your key\n",
    "!ibmcloud pi keys"
   ]
  },
  {
   "cell_type": "markdown",
   "id": "c4a99898",
   "metadata": {},
   "source": [
    "## Instructions to create ssh key via GUI"
   ]
  },
  {
   "cell_type": "markdown",
   "id": "116e7a74",
   "metadata": {},
   "source": [
    "First go back to your dashboard view and click 'Services & Software'\n",
    "![](Images/dashboard.png)\n",
    "\n",
    "\n",
    "Next click the link for your PowerVS Instance you created. In the example screenshot we named it MattR_PVS\n",
    "![](Images/services_list.png)\n",
    "\n",
    "\n",
    "Finally on the left sidebar click 'SSH keys'. If you don't have a key here, then just go ahead and create a new key with a meaningful name. Record the key value, and enter the data in the python cell below ...\n",
    "![](Images/ssh_keys.png)"
   ]
  },
  {
   "cell_type": "code",
   "execution_count": null,
   "id": "f2cde7d2",
   "metadata": {},
   "outputs": [],
   "source": [
    "# Enter SSH key discovered from above steps # must start with ssh-rsa\n",
    "SSH_KEY=\"PASTE YOUR SSH KEY HERE\""
   ]
  },
  {
   "cell_type": "markdown",
   "id": "992f2a96",
   "metadata": {},
   "source": [
    "# Example of Snapshots using Command Line Interface (CLI)"
   ]
  },
  {
   "cell_type": "markdown",
   "id": "cd0263a7",
   "metadata": {},
   "source": [
    "This will allow you to save the entire image of your Power Virtual Server environment to allow you to duplicate or re-create a virtual machine with the settings and software installed on the PowerVS instance.\n",
    "\n",
    "Snapshot has been added to the ibmcloud pi command line, full examples require authentication (either via \"login\" or with the enviromental API Key) and a \"service-target\" selection"
   ]
  },
  {
   "cell_type": "code",
   "execution_count": null,
   "id": "fae89e1d",
   "metadata": {},
   "outputs": [],
   "source": [
    "## Start by Listing the VMs (instances)\n",
    "!ibmcloud pi ins"
   ]
  },
  {
   "cell_type": "code",
   "execution_count": null,
   "id": "3e5ae9fc",
   "metadata": {},
   "outputs": [],
   "source": [
    "## Create a snapshot\n",
    "INSTANCE_ID='PASTE YOUR INSTANCE ID HERE'\n",
    "!ibmcloud pi snapshot-create $INSTANCE_ID --name snaptest2 --description \"My test snapshot\""
   ]
  },
  {
   "cell_type": "markdown",
   "id": "99a50c49",
   "metadata": {},
   "source": [
    "A snapshot id will be generated for you to reference the snapshot.\n",
    "\n",
    "Next we will ist all of the snapshots to validate if it has been created and is available"
   ]
  },
  {
   "cell_type": "code",
   "execution_count": null,
   "id": "cc2a32c4",
   "metadata": {},
   "outputs": [],
   "source": [
    "## List Snapshots\n",
    "!ibmcloud pi snapshots"
   ]
  },
  {
   "cell_type": "markdown",
   "id": "5bbf10db",
   "metadata": {},
   "source": [
    "# Example of Cloning using Command Line Interface (CLI)"
   ]
  },
  {
   "cell_type": "markdown",
   "id": "384c1ade",
   "metadata": {},
   "source": [
    "Cloning is a command which is part of the ibmcloud pi command line. \n",
    "\n",
    "Full examples require authentiation (either via \"login\" or with an environmental API KEY) and a \"service-target\" selection."
   ]
  },
  {
   "cell_type": "code",
   "execution_count": null,
   "id": "925c2442",
   "metadata": {},
   "outputs": [],
   "source": [
    "# First lets list all the disks available\n",
    "!ibmcloud pi volumes"
   ]
  },
  {
   "cell_type": "markdown",
   "id": "dd67ea96",
   "metadata": {},
   "source": [
    "Find the virtual machine (VM) you would like to clone and copy the id of it"
   ]
  },
  {
   "cell_type": "code",
   "execution_count": null,
   "id": "d6717a7e",
   "metadata": {},
   "outputs": [],
   "source": [
    "VMID='PASTE VOLUME ID HERE'\n",
    "!ibmcloud pi volume-create-clone MDBCOPY --volumes $VMID"
   ]
  },
  {
   "cell_type": "markdown",
   "id": "60b0e226",
   "metadata": {},
   "source": [
    "Lastly, you may check the status of your cloning. You will need to grab the task ID given from the output above."
   ]
  },
  {
   "cell_type": "code",
   "execution_count": null,
   "id": "909e9dd3",
   "metadata": {},
   "outputs": [],
   "source": [
    "TASKID='PASTE TASK ID HERE' \n",
    "!ibmcloud pi volume-clone $TASKID"
   ]
  },
  {
   "cell_type": "markdown",
   "id": "0f952f5f",
   "metadata": {},
   "source": [
    "# Step 7: Working with the IBM pvsadm tool"
   ]
  },
  {
   "cell_type": "markdown",
   "id": "66732688",
   "metadata": {},
   "source": [
    "This will allow you to make changes and/or query your Power Virtual Server environment to allow you to administer it from an IT Admin perspective.\n",
    "\n",
    "This is a tool to help with managing of resources in IBM Power Systems Virtual Server:\n",
    "https://www.ibm.com/cloud/power-virtual-server\n",
    "\n",
    "Although this is already installed for you in this notebook you can find more details on the management and installation of this command here: https://github.com/ppc64le-cloud/pvsadm"
   ]
  },
  {
   "cell_type": "code",
   "execution_count": null,
   "id": "9aea9e19",
   "metadata": {},
   "outputs": [],
   "source": [
    "## View the basic options\n",
    "!pvsadm -h\n",
    "\n",
    "## The purge subcommand will remove a lot! Use with caution! \n",
    "!pvsadm purge -h"
   ]
  },
  {
   "cell_type": "markdown",
   "id": "c82c8b88",
   "metadata": {},
   "source": [
    "**Warning:** The pvsadm purge process removes ALL VMs in a PowerVS Service Instance, so be careful using that!\n",
    "\n",
    "Users of PowerVS often would like additional details from the small pop-up notification windows that temporarily appear during operations. The first exercise uses the get events task for pvsadm."
   ]
  },
  {
   "cell_type": "code",
   "execution_count": null,
   "id": "260c3a7a",
   "metadata": {},
   "outputs": [],
   "source": [
    "## Start by Listing the VMs (instances)\n",
    "!ibmcloud pi sl"
   ]
  },
  {
   "cell_type": "code",
   "execution_count": null,
   "id": "1eb7d6b9",
   "metadata": {},
   "outputs": [],
   "source": [
    "# Select name of service you want to see events for. Make sure it is the name and not the crn\n",
    "PVS_NAME=\"ENTER POWERVS NAME HERE (NOT CRN)\"\n",
    "\n",
    "# !pvsadm get events -k $APIKEY -i $PVS_NAME\n",
    "!pvsadm get events -k $APIKEY -n $PVS_NAME"
   ]
  },
  {
   "cell_type": "markdown",
   "id": "07e017ae",
   "metadata": {},
   "source": [
    "In this scenario we will give you an image file and you will leverage pvsadm to upload it to Cloud Object Storage."
   ]
  },
  {
   "cell_type": "code",
   "execution_count": null,
   "id": "9000da0f",
   "metadata": {},
   "outputs": [],
   "source": [
    "!pvsadm image upload --help"
   ]
  },
  {
   "cell_type": "code",
   "execution_count": null,
   "id": "568663cc",
   "metadata": {},
   "outputs": [],
   "source": [
    "!pvsadm image upload -k $APIKEY -b \"ENTER YOUR IBM COS BUCKET NAME\" -f /tmp/alpine-ppc64le.iso -r \"ENTER YOUR IBM COS BUCKET REGION\""
   ]
  },
  {
   "cell_type": "markdown",
   "id": "45aadc1e",
   "metadata": {},
   "source": [
    "# Step 8. Edit Ansible Playbooks"
   ]
  },
  {
   "cell_type": "markdown",
   "id": "80a061e2",
   "metadata": {},
   "source": [
    "Ansible playbooks are files that contain the instructions to perform a set of ansible tasks. Here we downloaded 2 samples from the PowerVS sample reposistory in github : https://github.com/IBM-Cloud/ansible-collection-ibm/tree/master/examples/simple-vm-power-vs\n",
    "\n",
    "We pre-loaded two of these samples for your reference. \n",
    "* list_pi_images.yml\n",
    "* create.yml\n",
    "\n",
    "You will need to edit these files based on the screenshots below prior to running them. Jupyter lab comes with a built-in code editor to make this easier."
   ]
  },
  {
   "cell_type": "markdown",
   "id": "296f2de5",
   "metadata": {},
   "source": [
    "## Step 8a. Open file list_pi_images.yml"
   ]
  },
  {
   "cell_type": "markdown",
   "id": "db938f37",
   "metadata": {},
   "source": [
    "This playbook will list available boot images for you to use with your create LPAR playbook in a subsequent step.\n",
    "\n",
    "On the left sidebar click list_pi_images.yml and edit this file with your PowerVS instance_id. See below commandfor collecting the instance id."
   ]
  },
  {
   "cell_type": "code",
   "execution_count": null,
   "id": "5b0b2463",
   "metadata": {},
   "outputs": [],
   "source": [
    "# find your instance id\n",
    "!ibmcloud pi service-list"
   ]
  },
  {
   "cell_type": "markdown",
   "id": "d080ebee",
   "metadata": {},
   "source": [
    "Get your instance id. This is the last section of your crn\n",
    "\n",
    "![](Images/Instance_id_screenshot.png)"
   ]
  },
  {
   "cell_type": "markdown",
   "id": "30426b2f",
   "metadata": {},
   "source": [
    "Take your instance id value and edit list_pi_images.yml with proper value\n",
    "\n",
    "![](Images/list_pi_images_screenshot.png)"
   ]
  },
  {
   "cell_type": "markdown",
   "id": "ca509d8b",
   "metadata": {},
   "source": [
    "# Step 9. Run list_pi_images.yml playbook"
   ]
  },
  {
   "cell_type": "markdown",
   "id": "46608f49",
   "metadata": {},
   "source": [
    "For this playbook to run we will need to set three environment variables. These variabels can also be included as variables in the playbook but in this instance we will use environment variables.\n",
    "\n",
    "* IC_API_KEY: Your IBM API Key created in step 1. Used for Authenication\n",
    "* IC_REGION: Used to address the correct api endpoint. See Endpoint URL section of [this link](https://cloud.ibm.com/apidocs/power-cloud).\n",
    "* IC_ZONE: Used to address the correct DC in relevant region. See IBM Power Infrastructure Zone on [this link](https://cloud.ibm.com/docs/power-iaas?topic=power-iaas-creating-power-virtual-server)."
   ]
  },
  {
   "cell_type": "code",
   "execution_count": null,
   "id": "2d768655",
   "metadata": {},
   "outputs": [],
   "source": [
    "#Save the instance id for the next playbook\n",
    "INSTANCE_ID=\"PASTE YOUR INSTANCE ID HERE\"\n",
    "\n",
    "# Running ansible playbooks requires IC_API_KEY environment variable (and other epending on playbook) is set \n",
    "# 2. run ansible playbook using bash shell\n",
    "\n",
    "!export IC_API_KEY=$APIKEY IC_REGION='POWERVS REGION' IC_ZONE='POWERVS DC'; \\\n",
    "ansible-playbook list_pi_images.yml"
   ]
  },
  {
   "cell_type": "markdown",
   "id": "b38e4f7d",
   "metadata": {},
   "source": [
    "Here, the output shows you the available boot images that you can use to deploy an LPAR. If this list is blank, this means you need to import one of the base images into your boot image list.**\n",
    "\n",
    "Expected output could look something like this ...\n",
    "```\n",
    "        ok: [localhost] => {\n",
    "           \"images_list.resource.image_info | items2dict(key_name='name', value_name='id')\": {\n",
    "              \"7200-05-01\": \"860f619a-0061-404d-a465-0167b5dced8b\",\n",
    "              \"IBMi-74-01-001\": \"50102bf2-74a1-4544-b87e-43932c7459bd\"\n",
    "               }\n",
    "        }\n",
    "```\n",
    "\n",
    "**Make note of available image to use in our next step to create an LPAR**"
   ]
  },
  {
   "cell_type": "markdown",
   "id": "1afd1698",
   "metadata": {},
   "source": [
    "# Step 10 :Modify create.yml : Create AIX LPAR"
   ]
  },
  {
   "cell_type": "markdown",
   "id": "e345888e",
   "metadata": {},
   "source": [
    "Finally open and edit the create.yml file based on the following screenshot. When complete with edits save the file.\n",
    "\n",
    "![](Images/create_screenshot.png)"
   ]
  },
  {
   "cell_type": "code",
   "execution_count": null,
   "id": "52824336",
   "metadata": {},
   "outputs": [],
   "source": [
    "# Use these values to edit your file .. #print(\"****\")\n",
    "#print(\"SSH_KEY\")\n",
    "print(SSH_KEY)\n",
    "print(\"****\") \n",
    "#print(\"INSTANCE_ID\") \n",
    "print(INSTANCE_ID)"
   ]
  },
  {
   "cell_type": "code",
   "execution_count": null,
   "id": "735a8f7c",
   "metadata": {},
   "outputs": [],
   "source": [
    "#This playbook will create the LPAR/VM\n",
    "!export IC_API_KEY=$APIKEY IC_REGION='POWERVS REGION' IC_ZONE='POWERVS DC'; \\\n",
    "ansible-playbook create.yml"
   ]
  },
  {
   "cell_type": "markdown",
   "id": "fb83659b",
   "metadata": {},
   "source": [
    "# Step 11. Verify LPAR creation in IBM Cloud UI"
   ]
  },
  {
   "cell_type": "markdown",
   "id": "445e9e0e",
   "metadata": {},
   "source": [
    "![](Images/ansible_result.png)"
   ]
  },
  {
   "cell_type": "markdown",
   "id": "52c74502",
   "metadata": {},
   "source": [
    "# Lab Complete"
   ]
  },
  {
   "cell_type": "markdown",
   "id": "23f93b31",
   "metadata": {},
   "source": [
    "Congratulations, you have now learned about tools that you can use to provision services within the IBM PowerVS Cloud."
   ]
  },
  {
   "cell_type": "code",
   "execution_count": null,
   "id": "cf237178",
   "metadata": {},
   "outputs": [],
   "source": []
  }
 ],
 "metadata": {
  "kernelspec": {
   "display_name": "Python 3 (ipykernel)",
   "language": "python",
   "name": "python3"
  },
  "language_info": {
   "codemirror_mode": {
    "name": "ipython",
    "version": 3
   },
   "file_extension": ".py",
   "mimetype": "text/x-python",
   "name": "python",
   "nbconvert_exporter": "python",
   "pygments_lexer": "ipython3",
   "version": "3.9.7"
  }
 },
 "nbformat": 4,
 "nbformat_minor": 5
}
